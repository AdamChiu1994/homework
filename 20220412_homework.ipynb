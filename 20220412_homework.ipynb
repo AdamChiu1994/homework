{
 "cells": [
  {
   "cell_type": "code",
   "execution_count": null,
   "id": "0a6ca4a7",
   "metadata": {},
   "outputs": [],
   "source": [
    "'''\n",
    "作業\n",
    "1\n",
    "22\n",
    "333\n",
    "4444\n",
    "55555\n",
    "/\n",
    "55555\n",
    "4444\n",
    "333\n",
    "22\n",
    "1\n",
    "/\n",
    "999999999\n",
    "7777777\n",
    "55555\n",
    "333\n",
    "1\n",
    "'''"
   ]
  },
  {
   "cell_type": "code",
   "execution_count": 34,
   "id": "7b48d458",
   "metadata": {},
   "outputs": [
    {
     "name": "stdout",
     "output_type": "stream",
     "text": [
      "1\n",
      "22\n",
      "333\n",
      "4444\n",
      "55555\n"
     ]
    }
   ],
   "source": [
    "for a in range(6,6):\n",
    "    for x in range(a):\n",
    "        x=a\n",
    "        print(x,sep=\"\",end=\"\")\n",
    "    print()\n",
    "    "
   ]
  },
  {
   "cell_type": "code",
   "execution_count": 36,
   "id": "85edaf60",
   "metadata": {},
   "outputs": [
    {
     "name": "stdout",
     "output_type": "stream",
     "text": [
      "55555\n",
      "4444\n",
      "333\n",
      "22\n",
      "1\n"
     ]
    }
   ],
   "source": [
    "for a in range(5,0,-1):\n",
    "    for x in range(a):\n",
    "        x=a\n",
    "        print(x,sep=\"\",end=\"\")\n",
    "    print()"
   ]
  },
  {
   "cell_type": "code",
   "execution_count": 37,
   "id": "e84ee438",
   "metadata": {},
   "outputs": [
    {
     "name": "stdout",
     "output_type": "stream",
     "text": [
      "999999999\n",
      "7777777\n",
      "55555\n",
      "333\n",
      "1\n"
     ]
    }
   ],
   "source": [
    "for a in range(9,0,-2):\n",
    "    for x in range(a):\n",
    "        x=a\n",
    "        print(x,sep=\"\",end=\"\")\n",
    "    print()"
   ]
  },
  {
   "cell_type": "code",
   "execution_count": null,
   "id": "6ea6b35a",
   "metadata": {},
   "outputs": [],
   "source": []
  },
  {
   "cell_type": "code",
   "execution_count": null,
   "id": "e14e6281",
   "metadata": {},
   "outputs": [],
   "source": []
  }
 ],
 "metadata": {
  "kernelspec": {
   "display_name": "Python 3",
   "language": "python",
   "name": "python3"
  },
  "language_info": {
   "codemirror_mode": {
    "name": "ipython",
    "version": 3
   },
   "file_extension": ".py",
   "mimetype": "text/x-python",
   "name": "python",
   "nbconvert_exporter": "python",
   "pygments_lexer": "ipython3",
   "version": "3.8.8"
  }
 },
 "nbformat": 4,
 "nbformat_minor": 5
}
